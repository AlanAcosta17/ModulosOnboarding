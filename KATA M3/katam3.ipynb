{
 "cells": [
  {
   "cell_type": "markdown",
   "metadata": {},
   "source": [
    "## EJERCICIO - Escribir declaraciones if, else y elif"
   ]
  },
  {
   "cell_type": "code",
   "execution_count": 5,
   "metadata": {},
   "outputs": [
    {
     "name": "stdout",
     "output_type": "stream",
     "text": [
      "DETECTOR DE ASTEROIDES\n",
      "¡¡ADVERTENCIA!! Se acerca un asteroide a una velocidad peligrosa.\n"
     ]
    }
   ],
   "source": [
    "# Añadir el código necesario para crear una variable que guarde la \n",
    "# velocidad del asteroide.\n",
    "# Escribe una expresión de prueba para calcular si necesita una advertencia.\n",
    "# Agregue las instrucciones que se ejecutarán si la expresión de prueba \n",
    "# es true o false.\n",
    "\n",
    "print(\"DETECTOR DE ASTEROIDES\")\n",
    "a = input(\"Velocidad del asteroide: \")\n",
    "if float(a) > 25:\n",
    "    print(\"¡¡ADVERTENCIA!! Se acerca un asteroide a una velocidad peligrosa.\")\n",
    "else:\n",
    "    print(\"El asteroide encontrado no representa una amenaza.\")"
   ]
  },
  {
   "cell_type": "code",
   "execution_count": 7,
   "metadata": {},
   "outputs": [
    {
     "name": "stdout",
     "output_type": "stream",
     "text": [
      "DETECTOR DE ASTEROIDES\n",
      "Falsa alarma\n"
     ]
    }
   ],
   "source": [
    "# Agrega el código para crear una variable para un asteroide que viaja \n",
    "# a 19 km/s\n",
    "# Escribe varias expresiones de prueba para determinar si puedes ver el \n",
    "# rayo de luz desde la tierra\n",
    "# Agrega las instrucciones que se ejecutarán si las expresiones de prueba \n",
    "# son True o False\n",
    "\n",
    "print(\"DETECTOR DE ASTEROIDES\")\n",
    "a = input(\"Velocidad del asteroide:\")\n",
    "if float(a) >= 20:\n",
    "    print(\"Busquen un asteroide en el cielo\")\n",
    "else:\n",
    "    print(\"Falsa alarma\")"
   ]
  },
  {
   "cell_type": "markdown",
   "metadata": {},
   "source": [
    "Combinación de ambos"
   ]
  },
  {
   "cell_type": "code",
   "execution_count": 13,
   "metadata": {},
   "outputs": [
    {
     "name": "stdout",
     "output_type": "stream",
     "text": [
      "DETECTOR DE ASTEROIDES\n",
      "Busquen un asteroide en el cielo.\n"
     ]
    }
   ],
   "source": [
    "print(\"DETECTOR DE ASTEROIDES\")\n",
    "a= input(\"Velocidad del asteroide:\")\n",
    "if float(a) >= 20:\n",
    "    if float(a) > 25:\n",
    "        print(\"¡¡ADVERTENCIA!! Se acerca un asteroide a una velocidad peligrosa. Busquen un asteroide en el cielo\")\n",
    "    else:\n",
    "        print(\"Busquen un asteroide en el cielo.\")\n",
    "else:\n",
    "    print(\"El asteroide encontrado no representa una amenaza.\")"
   ]
  },
  {
   "cell_type": "code",
   "execution_count": 14,
   "metadata": {},
   "outputs": [
    {
     "name": "stdout",
     "output_type": "stream",
     "text": [
      "DETECTOR DE ASTEROIDES\n",
      "Busquen un asteroide en el cielo.\n"
     ]
    }
   ],
   "source": [
    "print(\"DETECTOR DE ASTEROIDES\")\n",
    "a= input(\"Velocidad del asteroide:\")\n",
    "if float(a) > 25:\n",
    "    print(\"¡¡ADVERTENCIA!! Se acerca un asteroide a una velocidad peligrosa.\")\n",
    "elif float(a) >=20:\n",
    "    print(\"Busquen un asteroide en el cielo.\")\n",
    "else:\n",
    "    print(\"El asteroide encontrado no representa una amenaza.\")"
   ]
  },
  {
   "cell_type": "markdown",
   "metadata": {},
   "source": [
    "## Operadores AND y OR"
   ]
  },
  {
   "cell_type": "code",
   "execution_count": 22,
   "metadata": {},
   "outputs": [
    {
     "name": "stdout",
     "output_type": "stream",
     "text": [
      "DETECTOR DE ASTEROIDES\n",
      "¡¡ADVERTENCIA!! Se acerca un asteroide a una velocidad peligrosa.\n"
     ]
    }
   ],
   "source": [
    "print(\"DETECTOR DE ASTEROIDES\")\n",
    "a = input(\"Velocidad del asteroide:\")\n",
    "b = input(\"Tamaño del asteroide:\")\n",
    "if float(a) >= 20:\n",
    "    if float(a) > 25 and float(b) >25:\n",
    "        print(\"¡¡ADVERTENCIA!! Se acerca un asteroide a una velocidad peligrosa.\")\n",
    "    else:\n",
    "        print(\"Busquen un asteroide en el cielo.\")\n",
    "else:\n",
    "    print(\"No hay de que preocuparse.\")\n"
   ]
  },
  {
   "cell_type": "code",
   "execution_count": 20,
   "metadata": {},
   "outputs": [
    {
     "name": "stdout",
     "output_type": "stream",
     "text": [
      "¡Alerta, Un asteroide muy peligroso viene hacia la Tierra!\n"
     ]
    }
   ],
   "source": [
    "velocidad_asteroide = 26\n",
    "tamano_asteroide = 40\n",
    "if velocidad_asteroide > 25 and tamano_asteroide > 25:\n",
    "    print('¡Alerta, Un asteroide muy peligroso viene hacia la Tierra!')\n",
    "elif velocidad_asteroide >= 20:\n",
    "    print('Look up! ¡Hay una luz mágica en el cielo!')\n",
    "elif tamano_asteroide < 25:\n",
    "    print('Nada que ver aquí :)')\n",
    "else:\n",
    "    print('Nada que ver aquí :)')"
   ]
  }
 ],
 "metadata": {
  "interpreter": {
   "hash": "de31efae0f0fcd8503b7cd44ac87246e04765e54678bc56a6a33a77f59b44d2b"
  },
  "kernelspec": {
   "display_name": "Python 3.10.2 64-bit",
   "language": "python",
   "name": "python3"
  },
  "language_info": {
   "codemirror_mode": {
    "name": "ipython",
    "version": 3
   },
   "file_extension": ".py",
   "mimetype": "text/x-python",
   "name": "python",
   "nbconvert_exporter": "python",
   "pygments_lexer": "ipython3",
   "version": "3.10.2"
  },
  "orig_nbformat": 4
 },
 "nbformat": 4,
 "nbformat_minor": 2
}
